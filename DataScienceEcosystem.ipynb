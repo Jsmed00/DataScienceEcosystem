{
 "cells": [
  {
   "cell_type": "markdown",
   "id": "b069c7b4",
   "metadata": {},
   "source": [
    "# Data Science Tools and Ecosystem"
   ]
  },
  {
   "cell_type": "markdown",
   "id": "de87050a",
   "metadata": {},
   "source": [
    "In this notebook, Data Science Tools and Ecosystems are summarized."
   ]
  },
  {
   "cell_type": "markdown",
   "id": "bb5a0e46",
   "metadata": {},
   "source": [
    "**Objectives:**\n",
    "- Popular Languages for data science\n",
    "- How to use Git\n",
    "- How to create new branches and merge them when you're ready\n",
    "- How to create and edit tables and charts in R"
   ]
  },
  {
   "cell_type": "markdown",
   "id": "d0e889a9",
   "metadata": {},
   "source": [
    "Some of the popular languages that Data Scientists use are:\n",
    "1. Python\n",
    "2. R\n",
    "3. JavaScript"
   ]
  },
  {
   "cell_type": "markdown",
   "id": "68fb4a89",
   "metadata": {},
   "source": [
    "Some of the commonly used libraries used by Data Scientists include:\n",
    "1. pandas\n",
    "2. matplotlib\n",
    "3. numPy"
   ]
  },
  {
   "cell_type": "markdown",
   "id": "31548623",
   "metadata": {},
   "source": [
    "|Data Science Tools|\n",
    "|-----|\n",
    "|Rstudio|\n",
    "|Anaconda|\n",
    "|GitHub|"
   ]
  },
  {
   "cell_type": "markdown",
   "id": "a0176165",
   "metadata": {},
   "source": [
    "### Below are a few examples of evaluating arithmetic expression in Python."
   ]
  },
  {
   "cell_type": "code",
   "execution_count": 1,
   "id": "d30cb0f3",
   "metadata": {},
   "outputs": [
    {
     "data": {
      "text/plain": [
       "17"
      ]
     },
     "execution_count": 1,
     "metadata": {},
     "output_type": "execute_result"
    }
   ],
   "source": [
    "# This is a simple arithmetic expression to multiply and add integers.\n",
    "(3*4)+5"
   ]
  },
  {
   "cell_type": "code",
   "execution_count": 6,
   "id": "7315a087",
   "metadata": {},
   "outputs": [
    {
     "name": "stdout",
     "output_type": "stream",
     "text": [
      "3.3333333333333335\n"
     ]
    }
   ],
   "source": [
    "mins = 200\n",
    "hour = 60\n",
    "ans = mins/hour\n",
    "print(ans)"
   ]
  },
  {
   "cell_type": "markdown",
   "id": "18ebafdd",
   "metadata": {},
   "source": [
    "## Author\n",
    "Jonathan Smedley"
   ]
  },
  {
   "cell_type": "code",
   "execution_count": null,
   "id": "941beb1c",
   "metadata": {},
   "outputs": [],
   "source": []
  }
 ],
 "metadata": {
  "kernelspec": {
   "display_name": "Python 3 (ipykernel)",
   "language": "python",
   "name": "python3"
  },
  "language_info": {
   "codemirror_mode": {
    "name": "ipython",
    "version": 3
   },
   "file_extension": ".py",
   "mimetype": "text/x-python",
   "name": "python",
   "nbconvert_exporter": "python",
   "pygments_lexer": "ipython3",
   "version": "3.11.4"
  }
 },
 "nbformat": 4,
 "nbformat_minor": 5
}
